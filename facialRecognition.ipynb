{
 "cells": [
  {
   "cell_type": "code",
   "execution_count": 2,
   "id": "75b6303b",
   "metadata": {},
   "outputs": [],
   "source": [
    "import cv2 #openCV\n",
    "import mediapipe as mp #\n",
    "\n",
    "webcam = cv2.VideoCapture(0)\n",
    "reconhecimentoFacial = mp.solutions.face_detection\n",
    "reconhecedor = reconhecimentoFacial.FaceDetection()\n",
    "drawFace = mp.solutions.drawing_utils\n",
    "\n",
    "while True:\n",
    "    verification, frame = webcam.read()\n",
    "    \n",
    "    if not verification:\n",
    "        print(\"Error WEBCAM: dont read Frame\")\n",
    "        break\n",
    "    \n",
    "    faceList = reconhecedor.process(frame)\n",
    "    \n",
    "    if faceList.detections:\n",
    "        for face in faceList.detections:\n",
    "            drawFace.draw_detection(frame, face)\n",
    "            \n",
    "    cv2.imshow(\"Face on WebCam\", frame)\n",
    "    \n",
    "    if cv2.waitKey(5) == 27:\n",
    "        break\n",
    "            \n",
    "            \n",
    "webcam.release()\n",
    "cv2.destroyAllWindows()"
   ]
  },
  {
   "cell_type": "code",
   "execution_count": null,
   "id": "646234b7",
   "metadata": {},
   "outputs": [],
   "source": []
  }
 ],
 "metadata": {
  "kernelspec": {
   "display_name": "Python 3 (ipykernel)",
   "language": "python",
   "name": "python3"
  },
  "language_info": {
   "codemirror_mode": {
    "name": "ipython",
    "version": 3
   },
   "file_extension": ".py",
   "mimetype": "text/x-python",
   "name": "python",
   "nbconvert_exporter": "python",
   "pygments_lexer": "ipython3",
   "version": "3.9.7"
  }
 },
 "nbformat": 4,
 "nbformat_minor": 5
}
